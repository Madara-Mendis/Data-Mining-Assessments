{
 "cells": [
  {
   "cell_type": "code",
   "execution_count": 17,
   "id": "8e84bf7f-d0b0-41fd-b847-addb9ccec5c3",
   "metadata": {},
   "outputs": [],
   "source": [
    "import pandas as pd\n",
    "\n",
    "# Load the dataset\n",
    "df = pd.read_csv('supermarket.csv')\n"
   ]
  },
  {
   "cell_type": "code",
   "execution_count": 18,
   "id": "4b7feba4-577b-4c34-a6b2-c42c4e1f5254",
   "metadata": {},
   "outputs": [],
   "source": [
    "# Opt into the future behavior\n",
    "pd.set_option('future.no_silent_downcasting', True)"
   ]
  },
  {
   "cell_type": "code",
   "execution_count": 19,
   "id": "1f349a49-0d1d-476a-9be7-21059e9a327a",
   "metadata": {},
   "outputs": [
    {
     "name": "stdout",
     "output_type": "stream",
     "text": [
      "     department1 department2 department3 department4 department5 department6  \\\n",
      "0              0           0           0           0           0           0   \n",
      "1              1           0           0           0           0           0   \n",
      "2              0           0           0           0           0           0   \n",
      "3              1           0           0           0           0           0   \n",
      "4              0           0           0           0           0           0   \n",
      "...          ...         ...         ...         ...         ...         ...   \n",
      "4622           0           0           0           0           0           0   \n",
      "4623           0           0           0           1           0           0   \n",
      "4624           0           0           0           0           0           0   \n",
      "4625           0           0           0           0           0           0   \n",
      "4626           1           0           0           0           0           0   \n",
      "\n",
      "     department7 department8 department9 'grocery misc'  ... department208  \\\n",
      "0              0           0           0              0  ...             0   \n",
      "1              0           0           0              0  ...             0   \n",
      "2              0           0           0              0  ...             0   \n",
      "3              0           0           0              0  ...             0   \n",
      "4              0           0           0              0  ...             0   \n",
      "...          ...         ...         ...            ...  ...           ...   \n",
      "4622           0           0           0              0  ...             0   \n",
      "4623           0           0           0              0  ...             0   \n",
      "4624           0           0           0              0  ...             0   \n",
      "4625           0           0           0              0  ...             0   \n",
      "4626           0           0           0              0  ...             0   \n",
      "\n",
      "     department209 department210 department211 department212 department213  \\\n",
      "0                0             0             0             0             0   \n",
      "1                0             0             0             0             0   \n",
      "2                0             0             0             0             0   \n",
      "3                0             0             0             0             0   \n",
      "4                0             0             0             0             0   \n",
      "...            ...           ...           ...           ...           ...   \n",
      "4622             0             0             0             0             0   \n",
      "4623             0             0             0             0             0   \n",
      "4624             0             0             0             0             0   \n",
      "4625             0             0             0             0             0   \n",
      "4626             0             0             0             0             0   \n",
      "\n",
      "     department214 department215 department216 total  \n",
      "0                0             0             0  high  \n",
      "1                0             0             0   low  \n",
      "2                0             0             0   low  \n",
      "3                0             0             0   low  \n",
      "4                0             0             0   low  \n",
      "...            ...           ...           ...   ...  \n",
      "4622             0             0             0   low  \n",
      "4623             0             0             0  high  \n",
      "4624             0             0             0   low  \n",
      "4625             0             0             0   low  \n",
      "4626             0             0             0  high  \n",
      "\n",
      "[4627 rows x 217 columns]\n"
     ]
    }
   ],
   "source": [
    "# Replace 't' with 1 and '?' with 0\n",
    "df = df.replace({'t': 1, '?': 0})\n",
    "\n",
    "print(df)"
   ]
  },
  {
   "cell_type": "code",
   "execution_count": 20,
   "id": "1d07abde-5073-460f-be57-cb25fad0971f",
   "metadata": {},
   "outputs": [
    {
     "data": {
      "text/html": [
       "<div>\n",
       "<style scoped>\n",
       "    .dataframe tbody tr th:only-of-type {\n",
       "        vertical-align: middle;\n",
       "    }\n",
       "\n",
       "    .dataframe tbody tr th {\n",
       "        vertical-align: top;\n",
       "    }\n",
       "\n",
       "    .dataframe thead th {\n",
       "        text-align: right;\n",
       "    }\n",
       "</style>\n",
       "<table border=\"1\" class=\"dataframe\">\n",
       "  <thead>\n",
       "    <tr style=\"text-align: right;\">\n",
       "      <th></th>\n",
       "      <th>department1</th>\n",
       "      <th>department2</th>\n",
       "      <th>department3</th>\n",
       "      <th>department4</th>\n",
       "      <th>department5</th>\n",
       "      <th>department6</th>\n",
       "      <th>department7</th>\n",
       "      <th>department8</th>\n",
       "      <th>department9</th>\n",
       "      <th>'grocery misc'</th>\n",
       "      <th>...</th>\n",
       "      <th>department208</th>\n",
       "      <th>department209</th>\n",
       "      <th>department210</th>\n",
       "      <th>department211</th>\n",
       "      <th>department212</th>\n",
       "      <th>department213</th>\n",
       "      <th>department214</th>\n",
       "      <th>department215</th>\n",
       "      <th>department216</th>\n",
       "      <th>total</th>\n",
       "    </tr>\n",
       "  </thead>\n",
       "  <tbody>\n",
       "    <tr>\n",
       "      <th>0</th>\n",
       "      <td>0</td>\n",
       "      <td>0</td>\n",
       "      <td>0</td>\n",
       "      <td>0</td>\n",
       "      <td>0</td>\n",
       "      <td>0</td>\n",
       "      <td>0</td>\n",
       "      <td>0</td>\n",
       "      <td>0</td>\n",
       "      <td>0</td>\n",
       "      <td>...</td>\n",
       "      <td>0</td>\n",
       "      <td>0</td>\n",
       "      <td>0</td>\n",
       "      <td>0</td>\n",
       "      <td>0</td>\n",
       "      <td>0</td>\n",
       "      <td>0</td>\n",
       "      <td>0</td>\n",
       "      <td>0</td>\n",
       "      <td>high</td>\n",
       "    </tr>\n",
       "    <tr>\n",
       "      <th>1</th>\n",
       "      <td>1</td>\n",
       "      <td>0</td>\n",
       "      <td>0</td>\n",
       "      <td>0</td>\n",
       "      <td>0</td>\n",
       "      <td>0</td>\n",
       "      <td>0</td>\n",
       "      <td>0</td>\n",
       "      <td>0</td>\n",
       "      <td>0</td>\n",
       "      <td>...</td>\n",
       "      <td>0</td>\n",
       "      <td>0</td>\n",
       "      <td>0</td>\n",
       "      <td>0</td>\n",
       "      <td>0</td>\n",
       "      <td>0</td>\n",
       "      <td>0</td>\n",
       "      <td>0</td>\n",
       "      <td>0</td>\n",
       "      <td>low</td>\n",
       "    </tr>\n",
       "    <tr>\n",
       "      <th>2</th>\n",
       "      <td>0</td>\n",
       "      <td>0</td>\n",
       "      <td>0</td>\n",
       "      <td>0</td>\n",
       "      <td>0</td>\n",
       "      <td>0</td>\n",
       "      <td>0</td>\n",
       "      <td>0</td>\n",
       "      <td>0</td>\n",
       "      <td>0</td>\n",
       "      <td>...</td>\n",
       "      <td>0</td>\n",
       "      <td>0</td>\n",
       "      <td>0</td>\n",
       "      <td>0</td>\n",
       "      <td>0</td>\n",
       "      <td>0</td>\n",
       "      <td>0</td>\n",
       "      <td>0</td>\n",
       "      <td>0</td>\n",
       "      <td>low</td>\n",
       "    </tr>\n",
       "    <tr>\n",
       "      <th>3</th>\n",
       "      <td>1</td>\n",
       "      <td>0</td>\n",
       "      <td>0</td>\n",
       "      <td>0</td>\n",
       "      <td>0</td>\n",
       "      <td>0</td>\n",
       "      <td>0</td>\n",
       "      <td>0</td>\n",
       "      <td>0</td>\n",
       "      <td>0</td>\n",
       "      <td>...</td>\n",
       "      <td>0</td>\n",
       "      <td>0</td>\n",
       "      <td>0</td>\n",
       "      <td>0</td>\n",
       "      <td>0</td>\n",
       "      <td>0</td>\n",
       "      <td>0</td>\n",
       "      <td>0</td>\n",
       "      <td>0</td>\n",
       "      <td>low</td>\n",
       "    </tr>\n",
       "    <tr>\n",
       "      <th>4</th>\n",
       "      <td>0</td>\n",
       "      <td>0</td>\n",
       "      <td>0</td>\n",
       "      <td>0</td>\n",
       "      <td>0</td>\n",
       "      <td>0</td>\n",
       "      <td>0</td>\n",
       "      <td>0</td>\n",
       "      <td>0</td>\n",
       "      <td>0</td>\n",
       "      <td>...</td>\n",
       "      <td>0</td>\n",
       "      <td>0</td>\n",
       "      <td>0</td>\n",
       "      <td>0</td>\n",
       "      <td>0</td>\n",
       "      <td>0</td>\n",
       "      <td>0</td>\n",
       "      <td>0</td>\n",
       "      <td>0</td>\n",
       "      <td>low</td>\n",
       "    </tr>\n",
       "  </tbody>\n",
       "</table>\n",
       "<p>5 rows × 217 columns</p>\n",
       "</div>"
      ],
      "text/plain": [
       "  department1 department2 department3 department4 department5 department6  \\\n",
       "0           0           0           0           0           0           0   \n",
       "1           1           0           0           0           0           0   \n",
       "2           0           0           0           0           0           0   \n",
       "3           1           0           0           0           0           0   \n",
       "4           0           0           0           0           0           0   \n",
       "\n",
       "  department7 department8 department9 'grocery misc'  ... department208  \\\n",
       "0           0           0           0              0  ...             0   \n",
       "1           0           0           0              0  ...             0   \n",
       "2           0           0           0              0  ...             0   \n",
       "3           0           0           0              0  ...             0   \n",
       "4           0           0           0              0  ...             0   \n",
       "\n",
       "  department209 department210 department211 department212 department213  \\\n",
       "0             0             0             0             0             0   \n",
       "1             0             0             0             0             0   \n",
       "2             0             0             0             0             0   \n",
       "3             0             0             0             0             0   \n",
       "4             0             0             0             0             0   \n",
       "\n",
       "  department214 department215 department216 total  \n",
       "0             0             0             0  high  \n",
       "1             0             0             0   low  \n",
       "2             0             0             0   low  \n",
       "3             0             0             0   low  \n",
       "4             0             0             0   low  \n",
       "\n",
       "[5 rows x 217 columns]"
      ]
     },
     "execution_count": 20,
     "metadata": {},
     "output_type": "execute_result"
    }
   ],
   "source": [
    "df.head()\n"
   ]
  },
  {
   "cell_type": "code",
   "execution_count": 21,
   "id": "abee73fe-7565-49c2-bb47-3e0453780c2b",
   "metadata": {},
   "outputs": [],
   "source": [
    "# Drop the 'total' column as it's not needed for the apriori algorithm\n",
    "df = df.drop(columns=['total'])\n"
   ]
  },
  {
   "cell_type": "code",
   "execution_count": 22,
   "id": "94053937-8ad7-4683-9763-719c55dd9c83",
   "metadata": {},
   "outputs": [
    {
     "name": "stdout",
     "output_type": "stream",
     "text": [
      "<class 'pandas.core.frame.DataFrame'>\n",
      "RangeIndex: 4627 entries, 0 to 4626\n",
      "Columns: 216 entries, department1 to department216\n",
      "dtypes: object(216)\n",
      "memory usage: 7.6+ MB\n"
     ]
    }
   ],
   "source": [
    "df.info()"
   ]
  },
  {
   "cell_type": "code",
   "execution_count": 23,
   "id": "85aaffb4-5ae4-4aac-bd0a-c59b99e79f52",
   "metadata": {},
   "outputs": [],
   "source": [
    "# Convert the DataFrame to boolean type\n",
    "df = df.astype(bool)"
   ]
  },
  {
   "cell_type": "markdown",
   "id": "b42ec2ce-67a8-4fe2-b208-251370a04cb5",
   "metadata": {},
   "source": [
    "#### Apriori Algorithm"
   ]
  },
  {
   "cell_type": "code",
   "execution_count": 24,
   "id": "5c6229ad-7c4d-4824-a474-fe695146f687",
   "metadata": {},
   "outputs": [
    {
     "name": "stdout",
     "output_type": "stream",
     "text": [
      "     support                        itemsets\n",
      "0   0.719689              ('bread and cake')\n",
      "1   0.604063                ('baking needs')\n",
      "2   0.532310             (juice-sat-cord-ms)\n",
      "3   0.563000                      (biscuits)\n",
      "4   0.587206                ('frozen foods')\n",
      "5   0.503566           ('party snack foods')\n",
      "6   0.635185                    (milk-cream)\n",
      "7   0.640156                         (fruit)\n",
      "8   0.639939                    (vegetables)\n",
      "9   0.505079  ('bread and cake', milk-cream)\n",
      "10  0.502485       ('bread and cake', fruit)\n"
     ]
    }
   ],
   "source": [
    "from mlxtend.frequent_patterns import apriori\n",
    "\n",
    "# Apply the apriori algorithm\n",
    "frequent_itemsets = apriori(df, min_support=0.5, use_colnames=True)\n",
    "\n",
    "print(frequent_itemsets)\n"
   ]
  },
  {
   "cell_type": "code",
   "execution_count": 26,
   "id": "8b58c29f-343d-40d2-9884-e7fdc6c7e86c",
   "metadata": {},
   "outputs": [],
   "source": [
    "from mlxtend.frequent_patterns import apriori, association_rules\n"
   ]
  },
  {
   "cell_type": "code",
   "execution_count": 27,
   "id": "19d54c44-2399-4f8f-9875-c6b18787ec6f",
   "metadata": {},
   "outputs": [
    {
     "name": "stdout",
     "output_type": "stream",
     "text": [
      "\n",
      "Association Rules:\n",
      "          antecedents         consequents  antecedent support  \\\n",
      "0  ('bread and cake')        (milk-cream)            0.719689   \n",
      "1        (milk-cream)  ('bread and cake')            0.635185   \n",
      "2             (fruit)  ('bread and cake')            0.640156   \n",
      "\n",
      "   consequent support   support  confidence      lift  leverage  conviction  \\\n",
      "0            0.635185  0.505079    0.701802  1.104878  0.047944    1.223398   \n",
      "1            0.719689  0.505079    0.795168  1.104878  0.047944    1.368496   \n",
      "2            0.719689  0.502485    0.784943  1.090670  0.041773    1.303425   \n",
      "\n",
      "   zhangs_metric  \n",
      "0       0.338634  \n",
      "1       0.260194  \n",
      "2       0.231022  \n"
     ]
    }
   ],
   "source": [
    "# Generate the association rules\n",
    "rules = association_rules(frequent_itemsets, metric=\"confidence\", min_threshold=0.7)\n",
    "\n",
    "print(\"\\nAssociation Rules:\")\n",
    "print(rules)"
   ]
  },
  {
   "cell_type": "markdown",
   "id": "b617e225-1ee1-4fbe-a9b6-db624b2e785e",
   "metadata": {},
   "source": [
    "#### FP Growth Algorithm"
   ]
  },
  {
   "cell_type": "code",
   "execution_count": 41,
   "id": "5f5b04fe-bc67-4f0e-98cb-5e78cd5775cd",
   "metadata": {},
   "outputs": [
    {
     "name": "stdout",
     "output_type": "stream",
     "text": [
      "     support                        itemsets\n",
      "0   0.719689              ('bread and cake')\n",
      "1   0.640156                         (fruit)\n",
      "2   0.639939                    (vegetables)\n",
      "3   0.635185                    (milk-cream)\n",
      "4   0.604063                ('baking needs')\n",
      "5   0.587206                ('frozen foods')\n",
      "6   0.563000                      (biscuits)\n",
      "7   0.532310             (juice-sat-cord-ms)\n",
      "8   0.503566           ('party snack foods')\n",
      "9   0.502485       ('bread and cake', fruit)\n",
      "10  0.505079  ('bread and cake', milk-cream)\n"
     ]
    }
   ],
   "source": [
    "from mlxtend.frequent_patterns import fpgrowth\n",
    "\n",
    "# Apply the FP-Growth algorithm\n",
    "frequent_itemsets_fp = fpgrowth(df, min_support=0.5, use_colnames=True)\n",
    "\n",
    "print(frequent_itemsets_fp)\n"
   ]
  },
  {
   "cell_type": "code",
   "execution_count": 43,
   "id": "345694ce-a772-47a0-a8b3-1cad6c744d90",
   "metadata": {},
   "outputs": [
    {
     "name": "stdout",
     "output_type": "stream",
     "text": [
      "\n",
      "Association Rules:\n",
      "          antecedents         consequents  antecedent support  \\\n",
      "0             (fruit)  ('bread and cake')            0.640156   \n",
      "1  ('bread and cake')        (milk-cream)            0.719689   \n",
      "2        (milk-cream)  ('bread and cake')            0.635185   \n",
      "\n",
      "   consequent support   support  confidence      lift  leverage  conviction  \\\n",
      "0            0.719689  0.502485    0.784943  1.090670  0.041773    1.303425   \n",
      "1            0.635185  0.505079    0.701802  1.104878  0.047944    1.223398   \n",
      "2            0.719689  0.505079    0.795168  1.104878  0.047944    1.368496   \n",
      "\n",
      "   zhangs_metric  \n",
      "0       0.231022  \n",
      "1       0.338634  \n",
      "2       0.260194  \n"
     ]
    }
   ],
   "source": [
    "# Generate the association rules\n",
    "rules = association_rules(frequent_itemsets_fp, metric=\"confidence\", min_threshold=0.7)\n",
    "\n",
    "print(\"\\nAssociation Rules:\")\n",
    "print(rules)"
   ]
  },
  {
   "cell_type": "markdown",
   "id": "7c092712-beb4-47e7-91fd-75d505eccc3a",
   "metadata": {},
   "source": [
    "### Interesting Rules with Support, Confidence, and Lift\n",
    "\n",
    "1. **Rule 1: ('milk-cream') -> ('bread and cake')**\n",
    "   - **Support**: The support value is 0.505, indicating that this association occurs in approximately 50.5% of transactions.\n",
    "   - **Confidence**: The confidence is high at 0.795, meaning that when customers purchase milk and cream together, there's a strong likelihood (79.5%) they will also buy bread and cake.\n",
    "   - **Lift**: The lift value is 1.105, which suggests that the likelihood of purchasing bread and cake when buying milk and cream is 1.105 times higher than if the two items were purchased independently.\n",
    "   - **Justification**: With a high confidence and lift, this rule indicates a significant association between milk-cream and bread-cake purchases. It suggests a strong cross-category preference among customers, making it a compelling insight for strategic product placement and promotional campaigns in supermarkets.\n",
    "\n",
    "2. **Rule 2: ('bread and cake') -> ('milk-cream')**\n",
    "   - **Support**: The support value is also 0.505, indicating a similar occurrence rate in transactions as Rule 1.\n",
    "   - **Confidence**: The confidence is 0.702, suggesting that customers who buy bread and cake have a 70.2% likelihood of also purchasing milk and cream.\n",
    "   - **Lift**: The lift value of 1.105 indicates a reciprocal relationship similar to Rule 1, where the presence of bread and cake increases the likelihood of milk and cream being purchased together.\n",
    "   - **Justification**: Despite a slightly lower confidence compared to Rule 1, this rule still highlights a significant association between bread-cake and milk-cream purchases. It underscores a consistent consumer behavior pattern that can inform product placement strategies and promotional bundling tactics.\n",
    "\n",
    "3. **Rule 3: ('fruit') -> ('bread and cake')**\n",
    "   - **Support**: The support value is 0.502, indicating that this association occurs in approximately 50.2% of transactions.\n",
    "   - **Confidence**: The confidence is 0.785, indicating that customers who purchase fruits have a 78.5% likelihood of also purchasing bread and cake.\n",
    "   - **Lift**: The lift value is 1.091, which suggests a moderate association where the likelihood of purchasing bread and cake when buying fruits is 1.091 times higher than if purchased independently.\n",
    "   - **Justification**: This rule indicates a notable association between healthier food choices (fruits) and bakery items (bread-cake). It suggests opportunities for promoting balanced shopping habits and creating cross-category promotions that appeal to health-conscious consumers while boosting sales in bakery departments.\n",
    "\n",
    "### Conclusion\n",
    "\n",
    "These rules are selected based on their meaningful support, high confidence, and lift values, indicating strong associations and practical implications for supermarket operations. They provide actionable insights into consumer behavior that can guide marketing strategies, product assortments, and promotional activities to enhance customer satisfaction and drive sales."
   ]
  },
  {
   "cell_type": "code",
   "execution_count": null,
   "id": "e16cc6f2-26ce-48c2-9042-c63dd4dd39a1",
   "metadata": {},
   "outputs": [],
   "source": []
  }
 ],
 "metadata": {
  "kernelspec": {
   "display_name": "Python 3 (ipykernel)",
   "language": "python",
   "name": "python3"
  },
  "language_info": {
   "codemirror_mode": {
    "name": "ipython",
    "version": 3
   },
   "file_extension": ".py",
   "mimetype": "text/x-python",
   "name": "python",
   "nbconvert_exporter": "python",
   "pygments_lexer": "ipython3",
   "version": "3.12.2"
  }
 },
 "nbformat": 4,
 "nbformat_minor": 5
}
